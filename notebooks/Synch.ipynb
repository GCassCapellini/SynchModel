{
 "cells": [
  {
   "cell_type": "code",
   "execution_count": 19,
   "id": "7a039fde",
   "metadata": {},
   "outputs": [],
   "source": [
    "from integrate import integral\n",
    "import numpy as np\n",
    "from matplotlib import pyplot as plt\n",
    "import astropy.units as u\n"
   ]
  },
  {
   "cell_type": "markdown",
   "id": "a9f65b2a",
   "metadata": {},
   "source": [
    "$L_{\\gamma} = \\frac{3,7}{3^{1/6}}\\frac{e^{8/3}B^{2/3}}{h^{4/3}c^{1/6}}\\int_{E_{min}}^{E_{max}}dE N(E)\\left(\\frac{E_{\\gamma}}{E^2}\\right)^{1/3}e^{-\\frac{E_{\\gamma}}{E_c}}$"
   ]
  },
  {
   "cell_type": "markdown",
   "id": "c75d1e80",
   "metadata": {},
   "source": [
    "$E_c = \\frac{3}{4\\pi}\\frac{eh}{m^3c^5}\\sqrt{\\frac{2}{3}}BE^2$"
   ]
  },
  {
   "cell_type": "code",
   "execution_count": 20,
   "id": "ce976471",
   "metadata": {},
   "outputs": [],
   "source": [
    "#@u.quantity_input\n",
    "#def myfunction(myangle: u.Quantity[u.arcsec]):\n",
    "#    return myangle**2"
   ]
  },
  {
   "cell_type": "code",
   "execution_count": 26,
   "id": "2dd0bb16",
   "metadata": {},
   "outputs": [],
   "source": [
    "def SynchEm(part_dist,E,Egam,B):\n",
    "    #definindo constantes em cgs\n",
    "    e = 4.8032e-10 * u.Unit('statcoul') #carga do elétron\n",
    "    me = 9.1094e-28 * u.Unit('g') #massa do elétron\n",
    "    h = 6.6261e-27  * u.Unit('erg')*u.Unit('s') #constante de planck\n",
    "    c = 2.9979e10 * u.Unit('cm')/u.Unit('s') #velocidade de luz\n",
    "    #cálculo do termo fora da integral\n",
    "    factor1 = 3.7/3**(1/6)\n",
    "    factor2 = e**(8/3)*B**(2/3)/(h**(4/3)*c**(1/6))\n",
    "    #cálculando energia crítica:\n",
    "    factor_c1 = 3/(4*np.pi)\n",
    "    factor_c2 = e*h/(me**3*c**5)\n",
    "    factor_c3 = np.sqrt(2/3)*B*E**2\n",
    "    Ec = factor_c1*factor_c2*factor_c3\n",
    "    #calculando a integral\n",
    "    #definindo limites da integral\n",
    "    Emin, Emax = E[0], E[len(E)-1]\n",
    "    #definindo função que será integrada\n",
    "    term_exp = np.exp(-Egam/Ec)\n",
    "    term_div = (Egam/E**2)**(1/3)\n",
    "    fnctn = part_dist*term_div*term_exp\n",
    "    #fazendo a integração\n",
    "    Integral_sync,erro_sync = integral(Emin,Emax,fnctn)\n",
    "    return Integral_sync\n"
   ]
  }
 ],
 "metadata": {
  "kernelspec": {
   "display_name": ".venv",
   "language": "python",
   "name": "python3"
  },
  "language_info": {
   "codemirror_mode": {
    "name": "ipython",
    "version": 3
   },
   "file_extension": ".py",
   "mimetype": "text/x-python",
   "name": "python",
   "nbconvert_exporter": "python",
   "pygments_lexer": "ipython3",
   "version": "3.12.3"
  }
 },
 "nbformat": 4,
 "nbformat_minor": 5
}
