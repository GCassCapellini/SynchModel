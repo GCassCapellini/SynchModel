{
 "cells": [
  {
   "cell_type": "code",
   "execution_count": 1,
   "id": "7a039fde",
   "metadata": {},
   "outputs": [],
   "source": [
    "from integrate import integral\n",
    "import numpy as np\n",
    "from matplotlib import pyplot as plt\n",
    "import astropy.units as u\n",
    "from PartDist import ExpCutOffPL\n",
    "from PartDist import PowerLaw\n",
    "from grid import grid"
   ]
  },
  {
   "cell_type": "code",
   "execution_count": null,
   "id": "2dd0bb16",
   "metadata": {},
   "outputs": [],
   "source": [
    "def SynchEm(part_dist,E,Egam,B):\n",
    "    \"\"\"\n",
    "    Essa função calcula a emissão síncrotron dada uma distribuição de partículas, um array de energia dos elétrons e dos fótons e um campo magnético\n",
    "\n",
    "    Parâmetros:\n",
    "\n",
    "    part_dist[function]: função da distribuição de partículas\n",
    "\n",
    "    E [np.ndarray]: array com os valores da energia dos elétrons\n",
    "\n",
    "    Egam [np.ndarray]: array com os valores da energia dos fótons\n",
    "\n",
    "    B [float]: valor do campo magnético\n",
    "\n",
    "    Return:\n",
    "\n",
    "    L [np.ndarray]: array da luminosidade síncrotron produzida\n",
    "\n",
    "    \"\"\"\n",
    "\n",
    "    #checando se entradas estão corretas:\n",
    "\n",
    "    if not callable (part_dist,function):\n",
    "        raise TypeError (f\"part_dist deve ser uma função, mas recebeu {type(part_dist).__name__}\")\n",
    "    if not isinstance (E,np.ndarray):\n",
    "        raise TypeError (f\"E deve ser um numpy.ndarray, mas recebeu {type(part_dist).__name__}\")\n",
    "    if not isinstance (Egam,np.ndarray):\n",
    "        raise TypeError (f\"Egam deve ser um numpy.ndarray, mas recebeu {type(part_dist).__name__}\")\n",
    "    if not isinstance (B,(int,float)):\n",
    "        raise TypeError (f\"E deve ser um int ou float, mas recebeu {type(part_dist).__name__}\")\n",
    "\n",
    "    #definindo constantes em cgs\n",
    "    e = 4.8032e-10  #carga do elétron\n",
    "    me = 9.1094e-28 #massa do elétron\n",
    "    h = 6.6261e-27  #constante de planck\n",
    "    c = 2.9979e10  #velocidade de luz\n",
    "\n",
    "    #cálculo do termo fora da integral\n",
    "    factor1 = 1.85*np.sqrt(2)*e**3*B\n",
    "    factor2 = h*me*c**2\n",
    "    \n",
    "    #calculando a integral\n",
    "    #definindo limites da integral\n",
    "    Emin, Emax = E[0], E[-1]\n",
    "    #definindo função que será integrada\n",
    "    Lgam = np.zeros_like(Egam)\n",
    "    for i in range(len(Egam)):\n",
    "        def integ(epsilon):\n",
    "            #cálculando energia crítica\n",
    "            Ec = (3 * e * h * np.sqrt(2/3) * B * epsilon**2) / (4 * np.pi * me**3 * c**5)\n",
    "            return part_dist(epsilon)*(Egam[i]/Ec)**(1/3)*np.exp(-Egam[i]/Ec)    \n",
    "        Integral_val,error = integral(Emin,Emax,integ)\n",
    "        Lgam[i] = factor1/factor2*Integral_val\n",
    "    return Lgam"
   ]
  },
  {
   "cell_type": "code",
   "execution_count": 227,
   "id": "fbc0270d",
   "metadata": {},
   "outputs": [],
   "source": [
    "particles = PowerLaw(1.,7/3)\n",
    "#criando grid the energia\n",
    "ev_erg = 1.6*10**(-12) #erg\n",
    "E = grid(1.e3,1.e12,1000)\n",
    "Egam = grid(1e-5,1e10,10000) #eV\n",
    "#eV\n",
    "Egam [0] = 1000\n",
    "E_erg = E*ev_erg\n",
    "Egam_erg = Egam*ev_erg\n",
    "B = 1e-3\n",
    "#calculando emissão\n",
    "L = SynchEm(particles,E_erg,Egam_erg,B)"
   ]
  },
  {
   "cell_type": "code",
   "execution_count": 228,
   "id": "fed47da5",
   "metadata": {},
   "outputs": [
    {
     "data": {
      "text/plain": [
       "array([2.00493009e-08, 4.39730129e+05, 4.38718778e+05, ...,\n",
       "       0.00000000e+00, 0.00000000e+00, 0.00000000e+00], shape=(10001,))"
      ]
     },
     "execution_count": 228,
     "metadata": {},
     "output_type": "execute_result"
    }
   ],
   "source": [
    "L"
   ]
  },
  {
   "cell_type": "code",
   "execution_count": 229,
   "id": "6df31c85",
   "metadata": {},
   "outputs": [],
   "source": [
    "L_plot = L[1:]"
   ]
  },
  {
   "cell_type": "code",
   "execution_count": 230,
   "id": "7bcdf5ec",
   "metadata": {},
   "outputs": [
    {
     "data": {
      "text/plain": [
       "array([439730.12909555, 438718.77758245, 437709.75211296, ...,\n",
       "            0.        ,      0.        ,      0.        ], shape=(10000,))"
      ]
     },
     "execution_count": 230,
     "metadata": {},
     "output_type": "execute_result"
    }
   ],
   "source": [
    "L_plot"
   ]
  },
  {
   "cell_type": "code",
   "execution_count": 231,
   "id": "0d6687ed",
   "metadata": {},
   "outputs": [
    {
     "data": {
      "text/plain": [
       "[<matplotlib.lines.Line2D at 0x7c99a841f2c0>]"
      ]
     },
     "execution_count": 231,
     "metadata": {},
     "output_type": "execute_result"
    },
    {
     "data": {
      "image/png": "[encoded data removed]",
      "text/plain": [
       "<Figure size 640x480 with 1 Axes>"
      ]
     },
     "metadata": {},
     "output_type": "display_data"
    }
   ],
   "source": [
    "#PLOT\n",
    "Egam_plot = Egam[1:]\n",
    "plt.loglog(Egam_plot,L_plot)\n",
    "#plt.ylim(1e-14)"
   ]
  },
  {
   "cell_type": "markdown",
   "id": "af705428",
   "metadata": {},
   "source": [
    "**Caso Analítico:** $\\alpha = 7/3$, $N(E) = E^{-\\alpha}$\n"
   ]
  },
  {
   "cell_type": "code",
   "execution_count": 202,
   "id": "e7a95d6b",
   "metadata": {},
   "outputs": [],
   "source": [
    "e = 4.8032e-10  #carga do elétron\n",
    "m = 9.1094e-28 #massa do elétron\n",
    "h = 6.6261e-27  #constante de planck\n",
    "c = 2.9979e10  #velocidade de luz\n",
    "B = 1e-3"
   ]
  },
  {
   "cell_type": "code",
   "execution_count": 252,
   "id": "869ece9f",
   "metadata": {},
   "outputs": [],
   "source": [
    "Egamma = grid(1e-5,1e10,10000) #eV\n",
    "#Egamma = 1000"
   ]
  },
  {
   "cell_type": "code",
   "execution_count": 253,
   "id": "96b56894",
   "metadata": {},
   "outputs": [
    {
     "data": {
      "text/plain": [
       "array([1.00000000e-05, 1.00345985e-05, 1.00693167e-05, ...,\n",
       "       9.93116048e+09, 9.96552080e+09, 1.00000000e+10], shape=(10001,))"
      ]
     },
     "execution_count": 253,
     "metadata": {},
     "output_type": "execute_result"
    }
   ],
   "source": [
    "Egamma"
   ]
  },
  {
   "cell_type": "code",
   "execution_count": 254,
   "id": "1d10ee90",
   "metadata": {},
   "outputs": [],
   "source": [
    "#Egamma = 1000\n",
    "Egamma_erg = Egamma * ev_erg\n",
    "E = grid(1.e-3,1.e12,100)\n",
    "E_erg = E * ev_erg\n",
    "Emax = E_erg[-1]\n",
    "Emin = E_erg[0]"
   ]
  },
  {
   "cell_type": "code",
   "execution_count": 255,
   "id": "cb0e38be",
   "metadata": {},
   "outputs": [],
   "source": [
    "a = 1.85 * np.sqrt(2) * e**3 * B/(h * m * c**2)\n",
    "rho = 3/(4 * np.pi) * np.sqrt(2/3) * e * h/(m * c) * B/((m * c**2)**2)\n",
    "sigma = Egamma_erg/rho\n",
    "Lgam = a/(2 * sigma**(2/3)) * (np.exp(-sigma/Emax**2) - np.exp(-sigma/Emin**2))\n",
    "\n"
   ]
  },
  {
   "cell_type": "code",
   "execution_count": 256,
   "id": "89993046",
   "metadata": {},
   "outputs": [
    {
     "data": {
      "text/plain": [
       "array([440743.81201435, 439730.12909555, 438718.77758245, ...,\n",
       "            0.        ,      0.        ,      0.        ], shape=(10001,))"
      ]
     },
     "execution_count": 256,
     "metadata": {},
     "output_type": "execute_result"
    }
   ],
   "source": [
    "Lgam"
   ]
  },
  {
   "cell_type": "code",
   "execution_count": 268,
   "id": "d55985c7",
   "metadata": {},
   "outputs": [],
   "source": [
    "Lgam_plot = Lgam[1:]\n"
   ]
  },
  {
   "cell_type": "code",
   "execution_count": 272,
   "id": "b7a91555",
   "metadata": {},
   "outputs": [
    {
     "data": {
      "image/png": "[encoded data removed]",
      "text/plain": [
       "<Figure size 640x480 with 1 Axes>"
      ]
     },
     "metadata": {},
     "output_type": "display_data"
    }
   ],
   "source": [
    "plt.loglog(Egam_plot,L_plot,label= 'numérico')\n",
    "plt.loglog(Egam_plot,Lgam_plot, linestyle = '--',label = 'analítico')\n",
    "plt.legend()\n",
    "plt.grid()\n",
    "plt.ylim(1e-5,1e6)\n",
    "#plt.xlim(1e-11,1e3)\n",
    "plt.show()"
   ]
  },
  {
   "cell_type": "markdown",
   "id": "f8c1d1fc",
   "metadata": {},
   "source": [
    "**Testando para Egamma = 1000 eV**"
   ]
  },
  {
   "cell_type": "code",
   "execution_count": 240,
   "id": "f2b370eb",
   "metadata": {},
   "outputs": [],
   "source": [
    "Energiagamma = np.zeros(1)\n",
    "\n",
    "Energiagamma[0] = 1000\n",
    "\n",
    "Energiagamma_erg = Energiagamma * ev_erg\n",
    "Energia = grid(1.e-3,1.e12,100)\n",
    "Energia_erg = Energia * ev_erg\n",
    "Energiamax = Energia_erg[-1]\n",
    "Energiamin = Energia_erg[0]"
   ]
  },
  {
   "cell_type": "code",
   "execution_count": 241,
   "id": "ad783790",
   "metadata": {},
   "outputs": [
    {
     "data": {
      "text/plain": [
       "array([1.6e-09])"
      ]
     },
     "execution_count": 241,
     "metadata": {},
     "output_type": "execute_result"
    }
   ],
   "source": [
    "Energiagamma_erg"
   ]
  },
  {
   "cell_type": "code",
   "execution_count": 242,
   "id": "77e95a3e",
   "metadata": {},
   "outputs": [],
   "source": [
    "a = 1.85 * np.sqrt(2) * e**3 * B/(h * m * c**2)\n",
    "rho = 3/(4 * np.pi) * np.sqrt(2/3) * e * h/(m * c) * B/((m * c**2)**2)\n",
    "sigma = Energiagamma_erg/rho\n",
    "Lgam = a/(2 * sigma**(2/3)) * (np.exp(-sigma/Energiamax**2) - np.exp(-sigma/Energiamin**2))"
   ]
  },
  {
   "cell_type": "code",
   "execution_count": 243,
   "id": "27044bf0",
   "metadata": {},
   "outputs": [
    {
     "data": {
      "text/plain": [
       "array([2.00493009e-08])"
      ]
     },
     "execution_count": 243,
     "metadata": {},
     "output_type": "execute_result"
    }
   ],
   "source": [
    "Lgam"
   ]
  },
  {
   "cell_type": "code",
   "execution_count": 244,
   "id": "75166ee8",
   "metadata": {},
   "outputs": [],
   "source": [
    "L = SynchEm(particles,Energia_erg,Energiagamma_erg,B)"
   ]
  },
  {
   "cell_type": "code",
   "execution_count": 245,
   "id": "89193761",
   "metadata": {},
   "outputs": [
    {
     "data": {
      "text/plain": [
       "array([2.00493009e-08])"
      ]
     },
     "execution_count": 245,
     "metadata": {},
     "output_type": "execute_result"
    }
   ],
   "source": [
    "L"
   ]
  },
  {
   "cell_type": "code",
   "execution_count": 246,
   "id": "ee98fcbd",
   "metadata": {},
   "outputs": [
    {
     "data": {
      "text/plain": [
       "array([1.])"
      ]
     },
     "execution_count": 246,
     "metadata": {},
     "output_type": "execute_result"
    }
   ],
   "source": [
    "L/Lgam"
   ]
  },
  {
   "cell_type": "markdown",
   "id": "148584d1",
   "metadata": {},
   "source": [
    "-------------------------------------------------------------------------------------------------------------------------------------------"
   ]
  },
  {
   "cell_type": "markdown",
   "id": "860ded1b",
   "metadata": {},
   "source": [
    "$\\alpha, \\beta = 2.$"
   ]
  },
  {
   "cell_type": "code",
   "execution_count": 290,
   "id": "04f0089b",
   "metadata": {},
   "outputs": [
    {
     "name": "stderr",
     "output_type": "stream",
     "text": [
      "/home/gabriel/Área de Trabalho/MsC-protoplanetary nebula/Modelo/SynchModel/synchmodel/integrate.py:32: IntegrationWarning: The integral is probably divergent, or slowly convergent.\n",
      "  resultado, erro = quad(function, lim_inf, lim_sup,**kwargs)\n",
      "/home/gabriel/Área de Trabalho/MsC-protoplanetary nebula/Modelo/SynchModel/synchmodel/integrate.py:32: IntegrationWarning: The algorithm does not converge.  Roundoff error is detected\n",
      "  in the extrapolation table.  It is assumed that the requested tolerance\n",
      "  cannot be achieved, and that the returned result (if full_output = 1) is \n",
      "  the best which can be obtained.\n",
      "  resultado, erro = quad(function, lim_inf, lim_sup,**kwargs)\n"
     ]
    }
   ],
   "source": [
    "particles = ExpCutOffPL(1.,2.,2.,1e15*ev_erg)\n",
    "#criando grid the energia\n",
    "ev_erg = 1.6*10**(-12) #erg\n",
    "E = grid(1e3,1.e18,1000)\n",
    "Egam = grid(1.e3,1e10,1000) #eV\n",
    "#eV\n",
    "E_erg = E*ev_erg\n",
    "Egam_erg = Egam*ev_erg\n",
    "B = 1e-3\n",
    "#calculando emissão\n",
    "L = SynchEm(particles,E_erg,Egam_erg,B)"
   ]
  },
  {
   "cell_type": "code",
   "execution_count": 291,
   "id": "040aceeb",
   "metadata": {},
   "outputs": [
    {
     "data": {
      "text/plain": [
       "[<matplotlib.lines.Line2D at 0x7c99a82bc350>]"
      ]
     },
     "execution_count": 291,
     "metadata": {},
     "output_type": "execute_result"
    },
    {
     "data": {
      "image/png": "[encoded data removed]",
      "text/plain": [
       "<Figure size 640x480 with 1 Axes>"
      ]
     },
     "metadata": {},
     "output_type": "display_data"
    }
   ],
   "source": [
    "Lum = Egam_erg*L\n",
    "Lum_plot = Lum[1:]\n",
    "Egam_plot = Egam[1:]\n",
    "plt.loglog(Egam,Lum)"
   ]
  },
  {
   "cell_type": "code",
   "execution_count": null,
   "id": "9072e454",
   "metadata": {},
   "outputs": [],
   "source": []
  }
 ],
 "metadata": {
  "kernelspec": {
   "display_name": ".venv",
   "language": "python",
   "name": "python3"
  },
  "language_info": {
   "codemirror_mode": {
    "name": "ipython",
    "version": 3
   },
   "file_extension": ".py",
   "mimetype": "text/x-python",
   "name": "python",
   "nbconvert_exporter": "python",
   "pygments_lexer": "ipython3",
   "version": "3.12.3"
  }
 },
 "nbformat": 4,
 "nbformat_minor": 5
}
