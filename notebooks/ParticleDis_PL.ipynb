{
 "cells": [
  {
   "cell_type": "code",
   "execution_count": 1,
   "id": "4e7fee1a",
   "metadata": {},
   "outputs": [],
   "source": [
    "import numpy as np"
   ]
  },
  {
   "cell_type": "code",
   "execution_count": 6,
   "id": "d593167a",
   "metadata": {},
   "outputs": [],
   "source": [
    "def DistPL(norm,alpha,array):\n",
    "    #This function calculates the particle distribution according to a PowerLaw\n",
    "    #checking if parameters have the right types\n",
    "    if not isinstance(norm,(float,int)):\n",
    "        raise TypeError(f\"'norm' must be float or int, received {type(norm).__name__}.\")\n",
    "    if not isinstance(alpha,(float,int)):\n",
    "        raise TypeError(f\"'alpha' must be float ou int, received {type(norm).__name__}.\")\n",
    "    if not isinstance(array,np.ndarray):\n",
    "        raise TypeError(f\"'array' must be np.ndarray, received {type(norm).__name__}.\")\n",
    "    #checking if energy values are correct\n",
    "    if np.any(array <= 0):\n",
    "        raise ValueError(\"All energy values must be positive\")\n",
    "    #calculating PowerLaw distribution\n",
    "    dist = norm*array**(-alpha)\n",
    "    return dist"
   ]
  }
 ],
 "metadata": {
  "kernelspec": {
   "display_name": ".venv",
   "language": "python",
   "name": "python3"
  },
  "language_info": {
   "codemirror_mode": {
    "name": "ipython",
    "version": 3
   },
   "file_extension": ".py",
   "mimetype": "text/x-python",
   "name": "python",
   "nbconvert_exporter": "python",
   "pygments_lexer": "ipython3",
   "version": "3.12.3"
  }
 },
 "nbformat": 4,
 "nbformat_minor": 5
}
