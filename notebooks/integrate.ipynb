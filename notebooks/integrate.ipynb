{
 "cells": [
  {
   "cell_type": "code",
   "execution_count": 2,
   "id": "7a068f47",
   "metadata": {},
   "outputs": [],
   "source": [
    "from scipy.integrate import quad"
   ]
  },
  {
   "cell_type": "code",
   "execution_count": 6,
   "id": "bebda1d1",
   "metadata": {},
   "outputs": [],
   "source": [
    "#Esta função calcula uma integral de uma função dado um limite inferior e superior \n",
    "def integral(lim_inf,lim_sup,function,**kwargs):\n",
    "   #checando se as variáveis possuem o tipo correto\n",
    "    if not isinstance(lim_inf, (float, int)):\n",
    "        raise TypeError(f\"lim_inf deve ser float ou int, mas recebeu {type(lim_inf).__name__}\")\n",
    "    \n",
    "    if not isinstance(lim_sup, (float, int)):\n",
    "        raise TypeError(f\"lim_sup deve ser float ou int, mas recebeu {type(lim_sup).__name__}\")\n",
    "    \n",
    "    if not callable(function):\n",
    "        raise TypeError(\"function deve ser uma função ou objeto chamável (callable).\")\n",
    "    #checando o valor de lim_inf e lim_sup\n",
    "    invertido = False\n",
    "    if lim_inf > lim_sup:\n",
    "        lim_inf, lim_sup = lim_sup, lim_inf\n",
    "        invertido = True\n",
    "    resultado, erro = quad(function, lim_inf, lim_sup,**kwargs)\n",
    "\n",
    "    if invertido:\n",
    "        resultado *= -1\n",
    "\n",
    "    return resultado, erro"
   ]
  }
 ],
 "metadata": {
  "kernelspec": {
   "display_name": ".venv",
   "language": "python",
   "name": "python3"
  },
  "language_info": {
   "codemirror_mode": {
    "name": "ipython",
    "version": 3
   },
   "file_extension": ".py",
   "mimetype": "text/x-python",
   "name": "python",
   "nbconvert_exporter": "python",
   "pygments_lexer": "ipython3",
   "version": "3.12.3"
  }
 },
 "nbformat": 4,
 "nbformat_minor": 5
}
