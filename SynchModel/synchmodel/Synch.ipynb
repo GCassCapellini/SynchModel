{
 "cells": [
  {
   "cell_type": "code",
   "execution_count": 1,
   "id": "7a039fde",
   "metadata": {},
   "outputs": [],
   "source": [
    "from integrate import integral\n",
    "import numpy as np\n",
    "from matplotlib import pyplot as plt\n",
    "import astropy.units as u\n",
    "from PowerLaw import ExpCutPL\n",
    "from PowerLaw import DistPL"
   ]
  },
  {
   "cell_type": "markdown",
   "id": "c75d1e80",
   "metadata": {},
   "source": [
    "$E_c = \\frac{3}{4\\pi}\\frac{eh}{m^3c^5}\\sqrt{\\frac{2}{3}}BE^2$"
   ]
  },
  {
   "cell_type": "code",
   "execution_count": 20,
   "id": "ce976471",
   "metadata": {},
   "outputs": [],
   "source": [
    "#@u.quantity_input\n",
    "#def myfunction(myangle: u.Quantity[u.arcsec]):\n",
    "#    return myangle**2"
   ]
  },
  {
   "cell_type": "code",
   "execution_count": 34,
   "id": "96214a94",
   "metadata": {},
   "outputs": [],
   "source": [
    "import numpy as np\n",
    "from matplotlib import pyplot as plt\n",
    "from grid import grid\n",
    "from integrate import integral\n",
    "from PowerLaw import ExpCutPL\n",
    "from functools import partial"
   ]
  },
  {
   "cell_type": "markdown",
   "id": "a9f65b2a",
   "metadata": {},
   "source": [
    "$L_{\\gamma} = \\frac{3,7}{3^{1/6}}\\frac{e^{8/3}B^{2/3}}{h^{4/3}c^{1/6}}\\int_{E_{min}}^{E_{max}}dE N(E)\\left(\\frac{E_{\\gamma}}{E^2}\\right)^{1/3}e^{-\\frac{E_{\\gamma}}{E_c}}$"
   ]
  },
  {
   "cell_type": "code",
   "execution_count": null,
   "id": "2dd0bb16",
   "metadata": {},
   "outputs": [],
   "source": [
    "def SynchEm(part_dist,E,Egam,B):\n",
    "    #definindo constantes em cgs\n",
    "    e = 4.8032e-10  #carga do elétron\n",
    "    me = 9.1094e-28 #massa do elétron\n",
    "    h = 6.6261e-27  #constante de planck\n",
    "    c = 2.9979e10  #velocidade de luz\n",
    "    #cálculo do termo fora da integral\n",
    "    factor1 = 3.7/3**(1/6)\n",
    "    factor2 = e**(8/3)*B**(2/3)/(h**(4/3)*c**(1/6))\n",
    "    #cálculando energia crítica:\n",
    "    factor_c1 = 3/(4*np.pi)\n",
    "    factor_c2 = e*h/(me**3*c**5)\n",
    "    factor_c3 = np.sqrt(2/3)*B*E**2\n",
    "    Ec = factor_c1*factor_c2*factor_c3\n",
    "    #calculando a integral\n",
    "    #definindo limites da integral\n",
    "    Emin, Emax = E[0], E[len(E)-1]\n",
    "    #definindo função que será integrada\n",
    "    Integ = np.zeros_like(Egam)\n",
    "    erro_sync = np.zeros_like(Integ)\n",
    "    L = np.zeros_like(Egam)\n",
    "    for i in range(len(Egam)):\n",
    "        term_exp = np.exp(-Egam[i]/Ec)\n",
    "        term_div = (1/E**2)**(1/3)\n",
    "         \n",
    "        def fnctn(part_dist,termo_div,termo_exp,E):\n",
    "            return part_dist*term_div*term_exp\n",
    "        #fazendo a integração\n",
    "        Integ[i],erro_sync[i] = integral(Emin,Emax,fnctn)\n",
    "        L[i] = factor1*factor2*Egam[i]**(1/3)*Integ[i]\n",
    "    \n"
   ]
  },
  {
   "cell_type": "code",
   "execution_count": 78,
   "id": "02d1be19",
   "metadata": {},
   "outputs": [
    {
     "ename": "TypeError",
     "evalue": "ar() missing 1 required positional argument: 'A'",
     "output_type": "error",
     "traceback": [
      "\u001b[31m---------------------------------------------------------------------------\u001b[39m",
      "\u001b[31mTypeError\u001b[39m                                 Traceback (most recent call last)",
      "\u001b[36mCell\u001b[39m\u001b[36m \u001b[39m\u001b[32mIn[78]\u001b[39m\u001b[32m, line 10\u001b[39m\n\u001b[32m      7\u001b[39m \u001b[38;5;28;01mdef\u001b[39;00m\u001b[38;5;250m \u001b[39m\u001b[34mar\u001b[39m(dist,A):\n\u001b[32m      8\u001b[39m     \u001b[38;5;28;01mreturn\u001b[39;00m dist*A\n\u001b[32m---> \u001b[39m\u001b[32m10\u001b[39m inte = \u001b[43mintegral\u001b[49m\u001b[43m(\u001b[49m\u001b[32;43m1\u001b[39;49m\u001b[43m,\u001b[49m\u001b[32;43m10\u001b[39;49m\u001b[43m,\u001b[49m\u001b[43mar\u001b[49m\u001b[43m)\u001b[49m\n",
      "\u001b[36mFile \u001b[39m\u001b[32m~/Desktop/MsC/synchmodel/integrate.py:19\u001b[39m, in \u001b[36mintegral\u001b[39m\u001b[34m(lim_inf, lim_sup, function, **kwargs)\u001b[39m\n\u001b[32m     17\u001b[39m     lim_inf, lim_sup = lim_sup, lim_inf\n\u001b[32m     18\u001b[39m     invertido = \u001b[38;5;28;01mTrue\u001b[39;00m\n\u001b[32m---> \u001b[39m\u001b[32m19\u001b[39m resultado, erro = \u001b[43mquad\u001b[49m\u001b[43m(\u001b[49m\u001b[43mfunction\u001b[49m\u001b[43m,\u001b[49m\u001b[43m \u001b[49m\u001b[43mlim_inf\u001b[49m\u001b[43m,\u001b[49m\u001b[43m \u001b[49m\u001b[43mlim_sup\u001b[49m\u001b[43m,\u001b[49m\u001b[43m*\u001b[49m\u001b[43m*\u001b[49m\u001b[43mkwargs\u001b[49m\u001b[43m)\u001b[49m\n\u001b[32m     21\u001b[39m \u001b[38;5;28;01mif\u001b[39;00m invertido:\n\u001b[32m     22\u001b[39m     resultado *= -\u001b[32m1\u001b[39m\n",
      "\u001b[36mFile \u001b[39m\u001b[32m~/Desktop/MsC/.venv/lib/python3.12/site-packages/scipy/integrate/_quadpack_py.py:459\u001b[39m, in \u001b[36mquad\u001b[39m\u001b[34m(func, a, b, args, full_output, epsabs, epsrel, limit, points, weight, wvar, wopts, maxp1, limlst, complex_func)\u001b[39m\n\u001b[32m    456\u001b[39m     \u001b[38;5;28;01mreturn\u001b[39;00m retval\n\u001b[32m    458\u001b[39m \u001b[38;5;28;01mif\u001b[39;00m weight \u001b[38;5;129;01mis\u001b[39;00m \u001b[38;5;28;01mNone\u001b[39;00m:\n\u001b[32m--> \u001b[39m\u001b[32m459\u001b[39m     retval = \u001b[43m_quad\u001b[49m\u001b[43m(\u001b[49m\u001b[43mfunc\u001b[49m\u001b[43m,\u001b[49m\u001b[43m \u001b[49m\u001b[43ma\u001b[49m\u001b[43m,\u001b[49m\u001b[43m \u001b[49m\u001b[43mb\u001b[49m\u001b[43m,\u001b[49m\u001b[43m \u001b[49m\u001b[43margs\u001b[49m\u001b[43m,\u001b[49m\u001b[43m \u001b[49m\u001b[43mfull_output\u001b[49m\u001b[43m,\u001b[49m\u001b[43m \u001b[49m\u001b[43mepsabs\u001b[49m\u001b[43m,\u001b[49m\u001b[43m \u001b[49m\u001b[43mepsrel\u001b[49m\u001b[43m,\u001b[49m\u001b[43m \u001b[49m\u001b[43mlimit\u001b[49m\u001b[43m,\u001b[49m\n\u001b[32m    460\u001b[39m \u001b[43m                   \u001b[49m\u001b[43mpoints\u001b[49m\u001b[43m)\u001b[49m\n\u001b[32m    461\u001b[39m \u001b[38;5;28;01melse\u001b[39;00m:\n\u001b[32m    462\u001b[39m     \u001b[38;5;28;01mif\u001b[39;00m points \u001b[38;5;129;01mis\u001b[39;00m \u001b[38;5;129;01mnot\u001b[39;00m \u001b[38;5;28;01mNone\u001b[39;00m:\n",
      "\u001b[36mFile \u001b[39m\u001b[32m~/Desktop/MsC/.venv/lib/python3.12/site-packages/scipy/integrate/_quadpack_py.py:606\u001b[39m, in \u001b[36m_quad\u001b[39m\u001b[34m(func, a, b, args, full_output, epsabs, epsrel, limit, points)\u001b[39m\n\u001b[32m    604\u001b[39m \u001b[38;5;28;01mif\u001b[39;00m points \u001b[38;5;129;01mis\u001b[39;00m \u001b[38;5;28;01mNone\u001b[39;00m:\n\u001b[32m    605\u001b[39m     \u001b[38;5;28;01mif\u001b[39;00m infbounds == \u001b[32m0\u001b[39m:\n\u001b[32m--> \u001b[39m\u001b[32m606\u001b[39m         \u001b[38;5;28;01mreturn\u001b[39;00m \u001b[43m_quadpack\u001b[49m\u001b[43m.\u001b[49m\u001b[43m_qagse\u001b[49m\u001b[43m(\u001b[49m\u001b[43mfunc\u001b[49m\u001b[43m,\u001b[49m\u001b[43ma\u001b[49m\u001b[43m,\u001b[49m\u001b[43mb\u001b[49m\u001b[43m,\u001b[49m\u001b[43margs\u001b[49m\u001b[43m,\u001b[49m\u001b[43mfull_output\u001b[49m\u001b[43m,\u001b[49m\u001b[43mepsabs\u001b[49m\u001b[43m,\u001b[49m\u001b[43mepsrel\u001b[49m\u001b[43m,\u001b[49m\u001b[43mlimit\u001b[49m\u001b[43m)\u001b[49m\n\u001b[32m    607\u001b[39m     \u001b[38;5;28;01melse\u001b[39;00m:\n\u001b[32m    608\u001b[39m         \u001b[38;5;28;01mreturn\u001b[39;00m _quadpack._qagie(func, bound, infbounds, args, full_output, \n\u001b[32m    609\u001b[39m                                 epsabs, epsrel, limit)\n",
      "\u001b[31mTypeError\u001b[39m: ar() missing 1 required positional argument: 'A'"
     ]
    }
   ],
   "source": [
    "def x2(x):\n",
    "    return x**(-2)\n",
    "\n",
    "var = np.linspace(1,10)\n",
    "dist = x2(var)\n",
    "A = 2\n",
    "def ar(dist,A):\n",
    "    return dist*A\n",
    "\n",
    "inte = integral(1,10,ar)"
   ]
  },
  {
   "cell_type": "code",
   "execution_count": 76,
   "id": "31ddab37",
   "metadata": {},
   "outputs": [
    {
     "data": {
      "text/plain": [
       "(0.5, 5.551115123125783e-15)"
      ]
     },
     "execution_count": 76,
     "metadata": {},
     "output_type": "execute_result"
    }
   ],
   "source": [
    "def x(x):\n",
    "    return x\n",
    "\n",
    "integral(0,1,x)"
   ]
  },
  {
   "cell_type": "code",
   "execution_count": null,
   "id": "8e066cde",
   "metadata": {},
   "outputs": [],
   "source": []
  }
 ],
 "metadata": {
  "kernelspec": {
   "display_name": ".venv",
   "language": "python",
   "name": "python3"
  },
  "language_info": {
   "codemirror_mode": {
    "name": "ipython",
    "version": 3
   },
   "file_extension": ".py",
   "mimetype": "text/x-python",
   "name": "python",
   "nbconvert_exporter": "python",
   "pygments_lexer": "ipython3",
   "version": "3.12.3"
  }
 },
 "nbformat": 4,
 "nbformat_minor": 5
}
