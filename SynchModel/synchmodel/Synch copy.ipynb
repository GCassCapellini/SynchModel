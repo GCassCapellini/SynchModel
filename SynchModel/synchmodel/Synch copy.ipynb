{
 "cells": [
  {
   "cell_type": "code",
   "execution_count": 1,
   "id": "7a039fde",
   "metadata": {},
   "outputs": [],
   "source": [
    "from integrate import integral\n",
    "import numpy as np\n",
    "from matplotlib import pyplot as plt\n",
    "import astropy.units as u\n",
    "from PartDist import ExpCutOffPL\n",
    "from PartDist import PowerLaw\n",
    "from grid import grid"
   ]
  },
  {
   "cell_type": "code",
   "execution_count": 4,
   "id": "ce976471",
   "metadata": {},
   "outputs": [],
   "source": [
    "#@u.quantity_input\n",
    "#def myfunction(myangle: u.Quantity[u.arcsec]):\n",
    "#    return myangle**2"
   ]
  },
  {
   "cell_type": "code",
   "execution_count": 2,
   "id": "2dd0bb16",
   "metadata": {},
   "outputs": [],
   "source": [
    "def SynchEm(part_dist,E,Egam,B):\n",
    "    #definindo constantes em cgs\n",
    "    e = 4.8032e-10  #carga do elétron\n",
    "    me = 9.1094e-28 #massa do elétron\n",
    "    h = 6.6261e-27  #constante de planck\n",
    "    c = 2.9979e10  #velocidade de luz\n",
    "    #cálculo do termo fora da integral\n",
    "    factor1 = 1.85*np.sqrt(2)*e**3*B\n",
    "    factor2 = h*me*c**2\n",
    "    #calculando a integral\n",
    "    #definindo limites da integral\n",
    "    Emin, Emax = E[0], E[-1]\n",
    "    #definindo função que será integrada\n",
    "    Lgam = np.zeros_like(Egam)\n",
    "    for i in range(len(Egam)):\n",
    "        def integ(epsilon):\n",
    "            #cálculando energia crítica\n",
    "            Ec = (3 * e * h * np.sqrt(2/3) * B * epsilon**2) / (4 * np.pi * me**3 * c**5)\n",
    "            return part_dist(epsilon)*(Egam[i]/Ec)**(1/3)*np.exp(-Egam[i]/Ec)    \n",
    "        Integral_val,error = integral(Emin,Emax,integ)\n",
    "        Lgam[i] = factor1/factor2*Integral_val\n",
    "    return Lgam"
   ]
  },
  {
   "cell_type": "code",
   "execution_count": 30,
   "id": "fbc0270d",
   "metadata": {},
   "outputs": [],
   "source": [
    "particles = PowerLaw(1.,7/3)\n",
    "#criando grid the energia\n",
    "ev_erg = 1.6*10**(-12) #erg\n",
    "E = grid(1.e-3,1.e12,1000)\n",
    "Egam = E\n",
    "E_erg = E*ev_erg\n",
    "Egam_erg = Egam*ev_erg\n",
    "#calculando emissão\n",
    "L = SynchEm(particles,E_erg,Egam_erg,1e-3)"
   ]
  },
  {
   "cell_type": "code",
   "execution_count": 31,
   "id": "d81170ac",
   "metadata": {},
   "outputs": [
    {
     "data": {
      "text/plain": [
       "array([1.00000000e-03, 1.03514217e-03, 1.07151931e-03, ...,\n",
       "       9.33254301e+11, 9.66050879e+11, 1.00000000e+12], shape=(1001,))"
      ]
     },
     "execution_count": 31,
     "metadata": {},
     "output_type": "execute_result"
    }
   ],
   "source": [
    "Egam"
   ]
  },
  {
   "cell_type": "code",
   "execution_count": 32,
   "id": "9bc9bca8",
   "metadata": {},
   "outputs": [
    {
     "data": {
      "text/plain": [
       "array([20457.14208553, 19991.46772487, 19536.39325678, ...,\n",
       "           0.        ,     0.        ,     0.        ], shape=(1001,))"
      ]
     },
     "execution_count": 32,
     "metadata": {},
     "output_type": "execute_result"
    }
   ],
   "source": [
    "L"
   ]
  },
  {
   "cell_type": "code",
   "execution_count": 33,
   "id": "0d6687ed",
   "metadata": {},
   "outputs": [
    {
     "data": {
      "text/plain": [
       "(1e-14, np.float64(1.3974333563515027e+20))"
      ]
     },
     "execution_count": 33,
     "metadata": {},
     "output_type": "execute_result"
    },
    {
     "data": {
      "image/png": "[encoded data removed]",
      "text/plain": [
       "<Figure size 640x480 with 1 Axes>"
      ]
     },
     "metadata": {},
     "output_type": "display_data"
    }
   ],
   "source": [
    "#PLOT\n",
    "\n",
    "plt.loglog(Egam,L)\n",
    "plt.ylim(1e-14)"
   ]
  },
  {
   "cell_type": "markdown",
   "id": "28ae0cce",
   "metadata": {},
   "source": [
    "**Alterando Ec para tentar resolver problema numérico**"
   ]
  },
  {
   "cell_type": "code",
   "execution_count": 45,
   "id": "7d4c84cd",
   "metadata": {},
   "outputs": [],
   "source": [
    "def Distribuição_teste(norm, alpha):\n",
    "\n",
    "    \"\"\"\n",
    "    Creates a particle distribution function following a power-law.\n",
    "\n",
    "    Parameters:\n",
    "        norm (float): Normalization constant of the distribution.\n",
    "        alpha (float): Spectral index of the power law.\n",
    "\n",
    "    Returns:\n",
    "        function (callable): A function that computes the particle distribution for a given energy E.\n",
    "    \"\"\"\n",
    "    #creating a function factory:\n",
    "    def distribution(u):\n",
    "        #calculating the distribution of particles according to a power law\n",
    "        if u <= 0:\n",
    "            raise ValueError(\"E must be positive.\")\n",
    "        return norm * u**(-alpha/2)\n",
    "    return distribution"
   ]
  },
  {
   "cell_type": "code",
   "execution_count": 46,
   "id": "30a0a219",
   "metadata": {},
   "outputs": [],
   "source": [
    "u = E_erg**2\n",
    "part_dist = Distribuição_teste(1.,7/3)\n",
    "B = 1e-3\n",
    "e = 4.8032e-10  #carga do elétron\n",
    "me = 9.1094e-28 #massa do elétron\n",
    "h = 6.6261e-27  #constante de planck\n",
    "c = 2.9979e10  #velocidade de luz"
   ]
  },
  {
   "cell_type": "code",
   "execution_count": 48,
   "id": "a8dc7f85",
   "metadata": {},
   "outputs": [],
   "source": [
    "#calculando a integral\n",
    "#definindo limites da integral\n",
    "umin, umax = u[0], u[-1]\n",
    "#definindo função que será integrada\n",
    "integrando = np.zeros_like(Egam)\n",
    "for i in range(len(Egam)):\n",
    "    def integ(epsilon):\n",
    "        #cálculando energia crítica\n",
    "        Ec = (3 * e * h * np.sqrt(2/3) * B * epsilon) / (4 * np.pi * me**3 * c**5)\n",
    "        return part_dist(epsilon)*(Egam[i]/Ec)**(1/3)*np.exp(-Egam[i]/Ec)    \n",
    "    Integral_val,error = integral(umin,umax,integ)\n",
    "    integrando[i] = Integral_val"
   ]
  },
  {
   "cell_type": "code",
   "execution_count": 51,
   "id": "80901838",
   "metadata": {},
   "outputs": [
    {
     "data": {
      "text/plain": [
       "[<matplotlib.lines.Line2D at 0x77b476ace720>]"
      ]
     },
     "execution_count": 51,
     "metadata": {},
     "output_type": "execute_result"
    },
    {
     "data": {
      "image/png": "[encoded data removed]",
      "text/plain": [
       "<Figure size 640x480 with 1 Axes>"
      ]
     },
     "metadata": {},
     "output_type": "display_data"
    }
   ],
   "source": [
    "plt.plot(Egam,integrando)"
   ]
  },
  {
   "cell_type": "markdown",
   "id": "af705428",
   "metadata": {},
   "source": [
    "**Caso Analítico:** $\\alpha = 7/3$, $N(E) = E^{-\\alpha}$\n"
   ]
  },
  {
   "cell_type": "code",
   "execution_count": 34,
   "id": "e7a95d6b",
   "metadata": {},
   "outputs": [],
   "source": [
    "e = 4.8032e-10  #carga do elétron\n",
    "m = 9.1094e-28 #massa do elétron\n",
    "h = 6.6261e-27  #constante de planck\n",
    "c = 2.9979e10  #velocidade de luz\n",
    "B = 1e-3\n",
    "Egamma = Egam_erg\n",
    "Emax = E_erg[-1]\n",
    "Emin = E_erg[0]\n",
    "a = 3.7/3**(1/6)*e**(8/3)*B**(2/3)/(h**(4/3)*c**(1/6)*np.pi**(1/3))\n",
    "sig = np.sqrt(8/3)*(m**3*c**5)/(e*h*B)\n",
    "Lgam = a/(2*Egamma**(2/3)*sig)*(np.exp(-Egamma*sig /Emax**2)-np.exp(-Egamma*sig /Emin**2))"
   ]
  },
  {
   "cell_type": "code",
   "execution_count": 38,
   "id": "b7a91555",
   "metadata": {},
   "outputs": [
    {
     "data": {
      "image/png": "[encoded data removed]",
      "text/plain": [
       "<Figure size 640x480 with 1 Axes>"
      ]
     },
     "metadata": {},
     "output_type": "display_data"
    }
   ],
   "source": [
    "plt.loglog(Egam,L,label= 'numérico')\n",
    "plt.loglog(Egam,Lgam, linestyle = '--',label = 'analítico')\n",
    "plt.legend()\n",
    "plt.grid()\n",
    "plt.ylim(1e-5,1e5)\n",
    "plt.xlim(1,1e12)\n",
    "plt.show()"
   ]
  },
  {
   "cell_type": "code",
   "execution_count": 107,
   "id": "1332c816",
   "metadata": {},
   "outputs": [],
   "source": [
    "#analisando comportamento do integrando:\n",
    "\n",
    "#integrando = np.zeros_like(Egamma)\n",
    "##for i in range(len(Egamma)):\n",
    " #   def integ(E):\n",
    " #       #cálculando energia crítica\n",
    " #       Ec = (3 * e * h * np.sqrt(2/3) * B * E**2) / (4 * np.pi * m**3 * c**5)\n",
    " #       return particles(E)*(Egamma[i]/Ec)**(1/3)*np.exp(-Egamma[i]/Ec)\n",
    " #   Integral_val,error = integral(Emin,Emax,integ)\n",
    " #   integrando[i] = Integral_val\n",
    " #   Ec_test = (3 * e * h * np.sqrt(2/3) * B * Emax**2) / (4 * np.pi * m**3 * c**5)\n"
   ]
  },
  {
   "cell_type": "code",
   "execution_count": 108,
   "id": "76a1d400",
   "metadata": {},
   "outputs": [],
   "source": [
    "#plt.loglog(Egamma,integrando)\n",
    "#plt.ylim(1e-14)\n",
    "#plt.xlim(1e-12,1e-10)"
   ]
  },
  {
   "cell_type": "code",
   "execution_count": 109,
   "id": "ca9abd9a",
   "metadata": {},
   "outputs": [],
   "source": [
    "#analisando comportamento do integrando:\n",
    "#Emin = 0\n",
    "#Emax = 1e-20\n",
    "#integrando = np.zeros_like(Egamma)\n",
    "#for i in range(len(Egamma)):\n",
    "#    def integ(E):\n",
    "#        #cálculando energia crítica\n",
    "#        Ec = (3 * e * h * np.sqrt(2/3) * B * E**2) / (4 * np.pi * m**3 * c**5)\n",
    "#        return particles(E)*(Egamma[i]/Ec)**(1/3)*np.exp(-Egamma[i]/Ec)\n",
    "#    Integral_val,error = integral(Emin,Emax,integ)\n",
    "#    integrando[i] = Integral_val\n",
    "#    Ec_test = (3 * e * h * np.sqrt(2/3) * B * Emax**2) / (4 * np.pi * m**3 * c**5)"
   ]
  },
  {
   "cell_type": "code",
   "execution_count": 110,
   "id": "1fce8a36",
   "metadata": {},
   "outputs": [],
   "source": [
    "#plt.plot(Egamma,integrando)\n",
    "#plt.ylim(1e-2,10)\n",
    "#plt.xlim(1e-12,1e-10)"
   ]
  },
  {
   "cell_type": "code",
   "execution_count": 9,
   "id": "7c9c0ef3",
   "metadata": {},
   "outputs": [],
   "source": [
    "#print(integrando)"
   ]
  },
  {
   "cell_type": "code",
   "execution_count": null,
   "id": "fe225508",
   "metadata": {},
   "outputs": [],
   "source": []
  }
 ],
 "metadata": {
  "kernelspec": {
   "display_name": ".venv",
   "language": "python",
   "name": "python3"
  },
  "language_info": {
   "codemirror_mode": {
    "name": "ipython",
    "version": 3
   },
   "file_extension": ".py",
   "mimetype": "text/x-python",
   "name": "python",
   "nbconvert_exporter": "python",
   "pygments_lexer": "ipython3",
   "version": "3.12.3"
  }
 },
 "nbformat": 4,
 "nbformat_minor": 5
}
